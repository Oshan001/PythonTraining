{
 "cells": [
  {
   "cell_type": "markdown",
   "id": "a4a86d83",
   "metadata": {},
   "source": []
  },
  {
   "cell_type": "markdown",
   "id": "b3a15010",
   "metadata": {},
   "source": [
    "# Introduction to NumPy"
   ]
  },
  {
   "cell_type": "markdown",
   "id": "a0c2dca5",
   "metadata": {},
   "source": [
    " NumPy (Numerical Python) is an open-source extension module for Python, which provides fast, efficient, and versatile tools for working with arrays and matrices. It is the backbone of most data science and machine learning libraries in Python (e.g., Pandas, SciPy, Scikit-learn, TensorFlow, PyTorch)."
   ]
  },
  {
   "cell_type": "markdown",
   "id": "15dda78c",
   "metadata": {},
   "source": [
    "Why NumPy?"
   ]
  },
  {
   "cell_type": "markdown",
   "id": "03ebf90c",
   "metadata": {},
   "source": [
    "Performance: NumPy operations are implemented in C, making them significantly faster than equivalent Python list operations, especially for large datasets. This speed is critical for scientific and engineering computations."
   ]
  },
  {
   "cell_type": "markdown",
   "id": "3277b67d",
   "metadata": {},
   "source": [
    "Memory Efficiency: NumPy arrays are more memory-efficient than Python lists because they store elements of the same data type contiguously in memory."
   ]
  },
  {
   "cell_type": "markdown",
   "id": "89b1f28c",
   "metadata": {},
   "source": [
    "Functionality: It provides a vast collection of high-level mathematical functions to operate on these arrays, covering linear algebra, Fourier transforms, random number generation, etc."
   ]
  },
  {
   "cell_type": "markdown",
   "id": "37679e9f",
   "metadata": {},
   "source": [
    "Ecosystem: It's the standard for numerical data interchange in the Python scientific computing ecosystem."
   ]
  },
  {
   "cell_type": "markdown",
   "id": "b06b08ae",
   "metadata": {},
   "source": [
    "Let's dive in!"
   ]
  },
  {
   "cell_type": "markdown",
   "id": "28b1e278",
   "metadata": {},
   "source": [
    "# 1. Installation"
   ]
  },
  {
   "cell_type": "markdown",
   "id": "7173f6e9",
   "metadata": {},
   "source": [
    "NumPy is typically included with scientific Python distributions like Anaconda. If you don't have it, you can install it using pip:"
   ]
  },
  {
   "cell_type": "code",
   "execution_count": null,
   "id": "5e96d56b",
   "metadata": {
    "vscode": {
     "languageId": "shellscript"
    }
   },
   "outputs": [],
   "source": [
    "!pip install numpy"
   ]
  },
  {
   "cell_type": "markdown",
   "id": "a6420cb8",
   "metadata": {},
   "source": [
    "Once installed, you can import it, conventionally as np:"
   ]
  },
  {
   "cell_type": "code",
   "execution_count": 1,
   "id": "41b44799",
   "metadata": {},
   "outputs": [
    {
     "name": "stdout",
     "output_type": "stream",
     "text": [
      "NumPy Version: 1.26.4\n"
     ]
    }
   ],
   "source": [
    "import numpy as np\n",
    "print(f\"NumPy Version: {np.__version__}\")"
   ]
  },
  {
   "cell_type": "markdown",
   "id": "4964410f",
   "metadata": {},
   "source": [
    "# 2. Core Concepts"
   ]
  },
  {
   "cell_type": "markdown",
   "id": "519e97aa",
   "metadata": {},
   "source": [
    "### 2.1 The ndarray Object: N-dimensional Array"
   ]
  },
  {
   "cell_type": "markdown",
   "id": "7c00041a",
   "metadata": {},
   "source": [
    "The most important object in NumPy is the ndarray (N-dimensional array). It's a grid of values, all of the same type, and is indexed by a tuple of non-negative integers."
   ]
  },
  {
   "cell_type": "markdown",
   "id": "2753eca2",
   "metadata": {},
   "source": [
    "ndim: The number of dimensions (axes) of the array."
   ]
  },
  {
   "cell_type": "markdown",
   "id": "1d43de7b",
   "metadata": {},
   "source": [
    "shape: A tuple of integers indicating the size of the array in each dimension. For a matrix with n rows and m columns, shape will be (n,m)."
   ]
  },
  {
   "cell_type": "markdown",
   "id": "3be9784b",
   "metadata": {},
   "source": [
    "size: The total number of elements in the array."
   ]
  },
  {
   "cell_type": "markdown",
   "id": "70d600e2",
   "metadata": {},
   "source": [
    "dtype: An object describing the data type of the elements in the array."
   ]
  },
  {
   "cell_type": "markdown",
   "id": "23e47208",
   "metadata": {},
   "source": [
    "Example:"
   ]
  },
  {
   "cell_type": "code",
   "execution_count": null,
   "id": "96cc9a5f",
   "metadata": {},
   "outputs": [],
   "source": [
    "# Create a 1-dimensional array (vector)\n",
    "arr1d = np.array([1, 2, 3, 4, 5])\n",
    "print(\"1D Array:\")\n",
    "print(arr1d)\n",
    "print(f\"Dimensions (ndim): {arr1d.ndim}\")\n",
    "print(f\"Shape (shape): {arr1d.shape}\")\n",
    "print(f\"Size (size): {arr1d.size}\")\n",
    "print(f\"Data Type (dtype): {arr1d.dtype}\")\n",
    "\n",
    "print(\"\\n\" + \"=\"*30 + \"\\n\")\n",
    "\n",
    "# Create a 2-dimensional array (matrix)\n",
    "arr2d = np.array([[10, 20, 30], [40, 50, 60]])\n",
    "print(\"2D Array:\")\n",
    "print(arr2d)\n",
    "print(f\"Dimensions (ndim): {arr2d.ndim}\")\n",
    "print(f\"Shape (shape): {arr2d.shape}\")\n",
    "print(f\"Size (size): {arr2d.size}\")\n",
    "print(f\"Data Type (dtype): {arr2d.dtype}\")"
   ]
  },
  {
   "cell_type": "markdown",
   "id": "3f5ad828",
   "metadata": {},
   "source": [
    "### 2.2 Data Types (dtype)"
   ]
  },
  {
   "cell_type": "markdown",
   "id": "bbf3a9ce",
   "metadata": {},
   "source": [
    "NumPy supports a much wider range of numerical data types than Python's built-in types. This allows for fine-grained control over memory usage and precision."
   ]
  },
  {
   "cell_type": "markdown",
   "id": "ef23de8c",
   "metadata": {},
   "source": [
    "Common dtype examples:"
   ]
  },
  {
   "cell_type": "markdown",
   "id": "9c7d1e40",
   "metadata": {},
   "source": [
    "int8, int16, int32, int64: Signed integers of different sizes."
   ]
  },
  {
   "cell_type": "markdown",
   "id": "8de986cc",
   "metadata": {},
   "source": [
    "uint8, uint16, uint32, uint64: Unsigned integers."
   ]
  },
  {
   "cell_type": "markdown",
   "id": "5e6d1a86",
   "metadata": {},
   "source": [
    "float16, float32, float64: Floating-point numbers (single and double precision). float64 is often default."
   ]
  },
  {
   "cell_type": "markdown",
   "id": "531876c6",
   "metadata": {},
   "source": [
    "complex64, complex128: Complex numbers."
   ]
  },
  {
   "cell_type": "markdown",
   "id": "bc0c8d46",
   "metadata": {},
   "source": [
    "bool: Boolean values (True/False)."
   ]
  },
  {
   "cell_type": "markdown",
   "id": "c2156240",
   "metadata": {},
   "source": [
    "str, U: String (variable length, 'U' is Unicode)."
   ]
  },
  {
   "cell_type": "markdown",
   "id": "129b11de",
   "metadata": {},
   "source": [
    "You can explicitly specify the dtype when creating an array:"
   ]
  },
  {
   "cell_type": "code",
   "execution_count": null,
   "id": "11f29313",
   "metadata": {},
   "outputs": [],
   "source": [
    "arr_float = np.array([1, 2, 3], dtype=np.float64)\n",
    "print(f\"Array with float64 dtype: {arr_float}, Dtype: {arr_float.dtype}\")\n",
    "\n",
    "arr_int8 = np.array([100, 120, -50], dtype=np.int8)\n",
    "print(f\"Array with int8 dtype: {arr_int8}, Dtype: {arr_int8.dtype}\")\n",
    "\n",
    "arr_bool = np.array([0, 1, 0, 1], dtype=bool)\n",
    "print(f\"Array with boolean dtype: {arr_bool}, Dtype: {arr_bool.dtype}\")\n",
    "\n",
    "# Type casting (changing dtype)\n",
    "arr_mixed = np.array([1.5, 2.7, 3.1])\n",
    "arr_int_casted = arr_mixed.astype(int)\n",
    "print(f\"Original float array: {arr_mixed}\")\n",
    "print(f\"Casted to int: {arr_int_casted}, Dtype: {arr_int_casted.dtype}\")"
   ]
  },
  {
   "cell_type": "markdown",
   "id": "ac07476c",
   "metadata": {},
   "source": [
    "### 2.3 Array Creation Routines"
   ]
  },
  {
   "cell_type": "markdown",
   "id": "c29fdaa3",
   "metadata": {},
   "source": [
    "NumPy provides many functions to create arrays beyond converting Python lists."
   ]
  },
  {
   "cell_type": "code",
   "execution_count": null,
   "id": "0fdac155",
   "metadata": {},
   "outputs": [],
   "source": [
    "# From a Python list or tuple\n",
    "list_data = [1, 2, 3]\n",
    "array_from_list = np.array(list_data)\n",
    "print(f\"Array from list: {array_from_list}\")"
   ]
  },
  {
   "cell_type": "code",
   "execution_count": null,
   "id": "894f105f",
   "metadata": {},
   "outputs": [],
   "source": [
    "#np.zeros(shape, dtype=float) #Create an array filled with zeros.\n",
    "zeros_1d = np.zeros(5,dtype=int)\n",
    "print(f\"1D Zeros: {zeros_1d}\")\n",
    "zeros_2d = np.zeros((2, 3))\n",
    "print(f\"2D Zeros:\\n{zeros_2d}\")"
   ]
  },
  {
   "cell_type": "code",
   "execution_count": null,
   "id": "788c46be",
   "metadata": {},
   "outputs": [],
   "source": [
    "#np.ones(shape, dtype=float): #Create an array filled with ones.\n",
    "ones_3d = np.ones((2, 2, 2))\n",
    "print(f\"3D Ones:\\n{ones_3d}\")"
   ]
  },
  {
   "cell_type": "code",
   "execution_count": null,
   "id": "0a3f0d6f",
   "metadata": {},
   "outputs": [],
   "source": [
    "#np.empty(shape, dtype=float): #Create an array without initializing its entries. Faster, but contains arbitrary values.\n",
    "empty_arr = np.empty((3, 3))\n",
    "print(f\"Empty array (uninitialized):\\n{empty_arr}\") # Values will vary"
   ]
  },
  {
   "cell_type": "code",
   "execution_count": null,
   "id": "06e22c9e",
   "metadata": {},
   "outputs": [],
   "source": [
    "#np.arange(start, stop, step): #Create an array with evenly spaced values within a given interval (like Python's range()).\n",
    "arr_range = np.arange(0, 10, 2) # [0, 2, 4, 6, 8]\n",
    "print(f\"Array using arange: {arr_range}\")"
   ]
  },
  {
   "cell_type": "code",
   "execution_count": null,
   "id": "2944c301",
   "metadata": {},
   "outputs": [],
   "source": [
    "#np.linspace(start, stop, num): Create an array with evenly spaced numbers over a specified interval. num is the number of samples.\n",
    "arr_linspace = np.linspace(0, 1, 5) # 5 points between 0 and 1, inclusive\n",
    "print(f\"Array using linspace: {arr_linspace}\")"
   ]
  },
  {
   "cell_type": "code",
   "execution_count": null,
   "id": "05d920a1",
   "metadata": {},
   "outputs": [],
   "source": [
    "#np.full(shape, fill_value, dtype=None): Create an array of a given shape filled with fill_value.\n",
    "full_arr = np.full((2, 2), 7)\n",
    "print(f\"Full array:\\n{full_arr}\")"
   ]
  },
  {
   "cell_type": "code",
   "execution_count": null,
   "id": "f430ef86",
   "metadata": {},
   "outputs": [],
   "source": [
    "#np.eye(N) / np.identity(N): Create an identity matrix (2-D array with ones on the diagonal and zeros elsewhere).\n",
    "identity_matrix = np.eye(3)\n",
    "print(f\"Identity matrix:\\n{identity_matrix}\")"
   ]
  },
  {
   "cell_type": "code",
   "execution_count": null,
   "id": "247201b8",
   "metadata": {},
   "outputs": [],
   "source": [
    "#Random Arrays: See Section 6 for more details.\n",
    "random_uniform = np.random.rand(2, 2) # Uniform distribution [0, 1)\n",
    "print(f\"Random uniform:\\n{random_uniform}\")\n",
    "random_normal = np.random.randn(2, 2) # Standard normal distribution\n",
    "print(f\"Random normal:\\n{random_normal}\")"
   ]
  },
  {
   "cell_type": "markdown",
   "id": "c8cb3237",
   "metadata": {},
   "source": [
    "# 3. Array Operations"
   ]
  },
  {
   "cell_type": "markdown",
   "id": "ced3a9ec",
   "metadata": {},
   "source": [
    "NumPy's power comes from its ability to perform operations on entire arrays without explicit loops (vectorization)."
   ]
  },
  {
   "cell_type": "markdown",
   "id": "ba34be52",
   "metadata": {},
   "source": [
    "### 3.1 Basic Arithmetic Operations (Element-wise)"
   ]
  },
  {
   "cell_type": "markdown",
   "id": "603e1ed2",
   "metadata": {},
   "source": [
    "Arithmetic operations (+, -, *, /, %) are performed element-wise."
   ]
  },
  {
   "cell_type": "code",
   "execution_count": null,
   "id": "b81064d1",
   "metadata": {},
   "outputs": [],
   "source": [
    "arr_a = np.array([1, 2, 3])\n",
    "arr_b = np.array([4, 5, 6])\n",
    "\n",
    "print(f\"arr_a + arr_b: {arr_a + arr_b}\")\n",
    "print(f\"arr_a - arr_b: {arr_a - arr_b}\")\n",
    "print(f\"arr_a * arr_b (element-wise multiplication): {arr_a * arr_b}\")\n",
    "print(f\"arr_a / arr_b: {arr_a / arr_b}\")\n",
    "print(f\"arr_a ** 2 (element-wise power): {arr_a ** 2}\")\n",
    "\n",
    "# Operations with a scalar\n",
    "print(f\"arr_a + 10: {arr_a + 10}\")\n",
    "print(f\"arr_a * 5: {arr_a * 5}\")\n",
    "\n",
    "# Comparison operations (element-wise, returns boolean array)\n",
    "print(f\"arr_a > 2: {arr_a > 2}\")\n",
    "print(f\"arr_a == arr_b: {arr_a == arr_b}\")"
   ]
  },
  {
   "cell_type": "markdown",
   "id": "3da64e32",
   "metadata": {},
   "source": [
    "### 3.2 Broadcasting"
   ]
  },
  {
   "cell_type": "markdown",
   "id": "628309bb",
   "metadata": {},
   "source": [
    "Broadcasting is NumPy's way of dealing with arrays of different shapes during arithmetic operations. Subject to certain constraints, the smaller array is \"broadcast\" across the larger array so that they have compatible shapes."
   ]
  },
  {
   "cell_type": "markdown",
   "id": "ad9e5808",
   "metadata": {},
   "source": [
    "Rules of Broadcasting:"
   ]
  },
  {
   "cell_type": "markdown",
   "id": "a1a47d26",
   "metadata": {},
   "source": [
    "If the arrays do not have the same number of dimensions, the shape of the smaller array is padded with ones on its left side."
   ]
  },
  {
   "cell_type": "markdown",
   "id": "2f373a1d",
   "metadata": {},
   "source": [
    "If the shape of the two arrays does not match in any dimension, and neither dimension has a size of 1, an error is raised."
   ]
  },
  {
   "cell_type": "markdown",
   "id": "1cedec2c",
   "metadata": {},
   "source": [
    "Dimensions with a size of 1 are stretched to match the other array's size."
   ]
  },
  {
   "cell_type": "markdown",
   "id": "f6ee0937",
   "metadata": {},
   "source": [
    "# Example 1: Scalar broadcast to array\n",
    "arr = np.array([1, 2, 3])\n",
    "scalar = 5\n",
    "result = arr + scalar\n",
    "print(f\"Array + scalar:\\n{result}\")\n",
    "\n",
    "# Example 2: 1D array broadcast to 2D array\n",
    "arr2d = np.array([[1, 2, 3],\n",
    "                  [4, 5, 6]])\n",
    "arr1d = np.array([10, 20, 30])\n",
    "result_broadcast = arr2d + arr1d\n",
    "print(f\"2D array + 1D array (broadcasting rows):\\n{result_broadcast}\")\n",
    "\n",
    "# Example 3: Column vector broadcast to 2D array\n",
    "arr_col_vector = np.array([[100],\n",
    "                           [200]])\n",
    "result_col_broadcast = arr2d + arr_col_vector\n",
    "print(f\"2D array + column vector (broadcasting columns):\\n{result_col_broadcast}\")\n",
    "\n",
    "# Incompatible shapes (will raise ValueError)\n",
    "# arr_bad_shape = np.array([1, 2])\n",
    "# arr2d + arr_bad_shape"
   ]
  },
  {
   "cell_type": "markdown",
   "id": "20895ab8",
   "metadata": {},
   "source": [
    "### 3.3 Mathematical Functions"
   ]
  },
  {
   "cell_type": "markdown",
   "id": "2cba6989",
   "metadata": {},
   "source": [
    "NumPy provides a wide range of universal functions (ufuncs) that operate element-wise on arrays."
   ]
  },
  {
   "cell_type": "code",
   "execution_count": null,
   "id": "63eb322a",
   "metadata": {},
   "outputs": [],
   "source": [
    "arr = np.array([0, np.pi/2, np.pi])\n",
    "\n",
    "print(f\"np.sin(arr): {np.sin(arr)}\")\n",
    "print(f\"np.cos(arr): {np.cos(arr)}\")\n",
    "print(f\"np.exp(arr): {np.exp(arr)}\") # e^x\n",
    "print(f\"np.log(arr + 1): {np.log(arr + 1)}\") # natural logarithm\n",
    "print(f\"np.sqrt(arr): {np.sqrt(arr)}\")\n",
    "\n",
    "# Rounding functions\n",
    "arr_float_vals = np.array([1.2, 2.7, 3.5, 4.1])\n",
    "print(f\"np.round(arr_float_vals): {np.round(arr_float_vals)}\")\n",
    "print(f\"np.floor(arr_float_vals): {np.floor(arr_float_vals)}\")\n",
    "print(f\"np.ceil(arr_float_vals): {np.ceil(arr_float_vals)}\")"
   ]
  },
  {
   "cell_type": "markdown",
   "id": "1fcd0b8a",
   "metadata": {},
   "source": [
    "### 3.4 Aggregation Functions"
   ]
  },
  {
   "cell_type": "markdown",
   "id": "acf68c53",
   "metadata": {},
   "source": [
    "These functions compute a single value from an array or along a specific axis."
   ]
  },
  {
   "cell_type": "code",
   "execution_count": null,
   "id": "18a5c312",
   "metadata": {},
   "outputs": [],
   "source": [
    "matrix = np.array([[1, 2, 3],\n",
    "                   [4, 5, 6]])\n",
    "\n",
    "print(f\"Sum of all elements: {matrix.sum()}\")\n",
    "print(f\"Mean of all elements: {matrix.mean()}\")\n",
    "print(f\"Minimum element: {matrix.min()}\")\n",
    "print(f\"Maximum element: {matrix.max()}\")\n",
    "print(f\"Standard deviation: {matrix.std()}\")\n",
    "\n",
    "# Aggregation along a specific axis\n",
    "# axis=0 means operations down the columns\n",
    "print(f\"Sum along axis=0 (columns): {matrix.sum(axis=0)}\")\n",
    "# axis=1 means operations across the rows\n",
    "print(f\"Mean along axis=1 (rows): {matrix.mean(axis=1)}\")\n",
    "\n",
    "# argmin, argmax: return indices of min/max values\n",
    "print(f\"Index of min element: {matrix.argmin()}\") # flat index\n",
    "print(f\"Indices of max element along axis=1: {matrix.argmax(axis=1)}\")"
   ]
  },
  {
   "cell_type": "markdown",
   "id": "4b7e2004",
   "metadata": {},
   "source": [
    "# 4. Indexing and Slicing"
   ]
  },
  {
   "cell_type": "markdown",
   "id": "321a51b0",
   "metadata": {},
   "source": [
    "Accessing elements or sub-arrays in NumPy is flexible and powerful."
   ]
  },
  {
   "cell_type": "markdown",
   "id": "e227c889",
   "metadata": {},
   "source": [
    "### 4.1 Basic Indexing"
   ]
  },
  {
   "cell_type": "markdown",
   "id": "9a83d246",
   "metadata": {},
   "source": [
    "Similar to Python lists, but for multiple dimensions."
   ]
  },
  {
   "cell_type": "code",
   "execution_count": null,
   "id": "9123afc4",
   "metadata": {},
   "outputs": [],
   "source": [
    "arr = np.array([10, 20, 30, 40, 50])\n",
    "print(f\"Element at index 0: {arr[0]}\")\n",
    "print(f\"Element at last index: {arr[-1]}\")\n",
    "\n",
    "matrix = np.array([[1, 2, 3],\n",
    "                   [4, 5, 6],\n",
    "                   [7, 8, 9]])\n",
    "print(f\"Element at (row 0, col 1): {matrix[0, 1]}\") # or matrix[0][1]\n",
    "print(f\"Element at (row 2, col 2): {matrix[2, 2]}\")"
   ]
  },
  {
   "cell_type": "markdown",
   "id": "2a32551f",
   "metadata": {},
   "source": [
    "### 4.2 Slicing"
   ]
  },
  {
   "cell_type": "markdown",
   "id": "fd1fb512",
   "metadata": {},
   "source": [
    "Extracting sub-arrays using start:stop:step."
   ]
  },
  {
   "cell_type": "code",
   "execution_count": null,
   "id": "0ccb1557",
   "metadata": {},
   "outputs": [],
   "source": [
    "arr = np.array([10, 20, 30, 40, 50, 60, 70])\n",
    "print(f\"Slice from index 2 to 5 (exclusive): {arr[2:5]}\") # [30, 40, 50]\n",
    "print(f\"Slice from beginning to index 3: {arr[:4]}\")     # [10, 20, 30, 40]\n",
    "print(f\"Slice from index 4 to end: {arr[4:]}\")           # [50, 60, 70]\n",
    "print(f\"Every other element: {arr[::2]}\")                # [10, 30, 50, 70]\n",
    "print(f\"Reversed array: {arr[::-1]}\")                  # [70, 60, 50, 40, 30, 20, 10]\n",
    "\n",
    "matrix = np.array([[1, 2, 3],\n",
    "                   [4, 5, 6],\n",
    "                   [7, 8, 9]])\n",
    "\n",
    "print(f\"First row: {matrix[0, :]}\") # or matrix[0]\n",
    "print(f\"First column: {matrix[:, 0]}\")\n",
    "print(f\"Sub-matrix (rows 0-1, cols 1-2):\\n{matrix[0:2, 1:3]}\") # [[2,3], [5,6]]\n",
    "\n",
    "# Slices return views, not copies!\n",
    "# Modifying a slice will modify the original array.\n",
    "sliced_view = matrix[0, :]\n",
    "sliced_view[0] = 99\n",
    "print(f\"\\nOriginal matrix after modifying slice:\\n{matrix}\")\n",
    "\n",
    "# To get a copy, use .copy()\n",
    "matrix_copy = np.array([[1, 2, 3], [4, 5, 6]])\n",
    "copy_view = matrix_copy[:, 1].copy()\n",
    "copy_view[0] = 88\n",
    "print(f\"\\nOriginal matrix_copy (unaffected by copy_view change):\\n{matrix_copy}\")"
   ]
  },
  {
   "cell_type": "markdown",
   "id": "b69eb3b2",
   "metadata": {},
   "source": [
    "### 4.3 Boolean Indexing (Masking)"
   ]
  },
  {
   "cell_type": "markdown",
   "id": "5a91cde2",
   "metadata": {},
   "source": [
    "Select elements based on a boolean condition. Returns a 1D array."
   ]
  },
  {
   "cell_type": "code",
   "execution_count": null,
   "id": "5048fb21",
   "metadata": {},
   "outputs": [],
   "source": [
    "data = np.array([10, 5, 20, 12, 8, 30])\n",
    "condition = data > 10\n",
    "print(f\"Boolean condition (data > 10): {condition}\")\n",
    "print(f\"Elements greater than 10: {data[condition]}\") # Uses the boolean array as an index\n",
    "\n",
    "# Combined conditions\n",
    "print(f\"Elements between 10 and 20: {data[(data > 10) & (data < 20)]}\")\n",
    "\n",
    "# Modifying elements based on a condition\n",
    "data[data < 10] = 0\n",
    "print(f\"Data after setting values less than 10 to 0: {data}\")"
   ]
  },
  {
   "cell_type": "markdown",
   "id": "82ba850e",
   "metadata": {},
   "source": [
    "### 4.4 Fancy Indexing"
   ]
  },
  {
   "cell_type": "markdown",
   "id": "23b6c786",
   "metadata": {},
   "source": [
    "Using integer arrays (or lists) to select arbitrary elements."
   ]
  },
  {
   "cell_type": "code",
   "execution_count": 2,
   "id": "283396aa",
   "metadata": {},
   "outputs": [
    {
     "name": "stdout",
     "output_type": "stream",
     "text": [
      "Elements at specific indices: ['a' 'd' 'f']\n",
      "\n",
      "Original matrix:\n",
      "[[ 0  1  2  3]\n",
      " [ 4  5  6  7]\n",
      " [ 8  9 10 11]\n",
      " [12 13 14 15]]\n",
      "Elements from matrix[rows, cols]: [ 1 11]\n",
      "Rows 0 and 2:\n",
      "[[ 0  1  2  3]\n",
      " [ 8  9 10 11]]\n",
      "Elements at coordinate pairs: [ 0  6 13]\n"
     ]
    }
   ],
   "source": [
    "arr = np.array(['a', 'b', 'c', 'd', 'e', 'f'])\n",
    "indices = np.array([0, 3, 5])\n",
    "print(f\"Elements at specific indices: {arr[indices]}\")\n",
    "\n",
    "matrix = np.arange(16).reshape((4, 4))\n",
    "print(f\"\\nOriginal matrix:\\n{matrix}\")\n",
    "\n",
    "# Select specific rows and columns\n",
    "rows = np.array([0, 2])\n",
    "cols = np.array([1, 3])\n",
    "print(f\"Elements from matrix[rows, cols]: {matrix[rows, cols]}\") # (0,1) and (2,3) -> [1, 11]\n",
    "\n",
    "# Select multiple rows\n",
    "print(f\"Rows 0 and 2:\\n{matrix[[0, 2]]}\")\n",
    "\n",
    "# Select specific elements using a list of coordinate pairs\n",
    "coords = np.array([[0, 0], [1, 2], [3, 1]])\n",
    "print(f\"Elements at coordinate pairs: {matrix[coords[:, 0], coords[:, 1]]}\") # (0,0), (1,2), (3,1) -> [0, 6, 13]"
   ]
  },
  {
   "cell_type": "markdown",
   "id": "6d10839c",
   "metadata": {},
   "source": [
    "# 5. Reshaping and Resizing"
   ]
  },
  {
   "cell_type": "markdown",
   "id": "7ed3872e",
   "metadata": {},
   "source": [
    "Changing the shape of an array."
   ]
  },
  {
   "cell_type": "markdown",
   "id": "e11ac2fd",
   "metadata": {},
   "source": [
    "### 5.1 reshape()"
   ]
  },
  {
   "cell_type": "markdown",
   "id": "d5304994",
   "metadata": {},
   "source": [
    "Returns a new array with the same data but a new shape. The total number of elements must remain the same."
   ]
  },
  {
   "cell_type": "code",
   "execution_count": 6,
   "id": "0c428b5c",
   "metadata": {},
   "outputs": [
    {
     "name": "stdout",
     "output_type": "stream",
     "text": [
      "Original 1D array: [ 0  1  2  3  4  5  6  7  8  9 10 11]\n",
      "Reshaped to 3x4 matrix:\n",
      "[[ 0  1  2  3]\n",
      " [ 4  5  6  7]\n",
      " [ 8  9 10 11]]\n",
      "Reshaped to 2x2x3 3D array:\n",
      "[[[ 0  1  2]\n",
      "  [ 3  4  5]]\n",
      "\n",
      " [[ 6  7  8]\n",
      "  [ 9 10 11]]]\n",
      "Reshaped to 4x? matrix:\n",
      "[[ 0  1  2]\n",
      " [ 3  4  5]\n",
      " [ 6  7  8]\n",
      " [ 9 10 11]]\n",
      "Original array after modifying reshaped view: [999   1   2   3   4   5   6   7   8   9  10  11]\n"
     ]
    }
   ],
   "source": [
    "arr = np.arange(12) # 1D array with 12 elements\n",
    "print(f\"Original 1D array: {arr}\")\n",
    "\n",
    "matrix_3x4 = arr.reshape(3, 4)\n",
    "print(f\"Reshaped to 3x4 matrix:\\n{matrix_3x4}\")\n",
    "\n",
    "matrix_2x2x3 = arr.reshape(2, 2, 3)\n",
    "print(f\"Reshaped to 2x2x3 3D array:\\n{matrix_2x2x3}\")\n",
    "\n",
    "# Use -1 to let NumPy infer the dimension\n",
    "matrix_4x_ = arr.reshape(4, -1) # Will infer (4, 3)\n",
    "print(f\"Reshaped to 4x? matrix:\\n{matrix_4x_}\")\n",
    "\n",
    "# Reshape is a view if possible, otherwise a copy.\n",
    "# If you modify the reshaped array, the original may also change.\n",
    "matrix_3x4[0, 0] = 999\n",
    "print(f\"Original array after modifying reshaped view: {arr}\")"
   ]
  },
  {
   "cell_type": "markdown",
   "id": "36479c80",
   "metadata": {},
   "source": [
    "### 5.2 resize()"
   ]
  },
  {
   "cell_type": "markdown",
   "id": "863f7cb9",
   "metadata": {},
   "source": [
    "Changes the shape of an array in-place. Can add or remove elements. If the new array is larger, new elements are filled with zeros."
   ]
  },
  {
   "cell_type": "code",
   "execution_count": 7,
   "id": "3e0c4f9b",
   "metadata": {},
   "outputs": [
    {
     "name": "stdout",
     "output_type": "stream",
     "text": [
      "Original array: [0 1 2 3 4]\n",
      "Resized array (in-place):\n",
      "[[0 1 2]\n",
      " [3 4 0]]\n",
      "Resized array (smaller, in-place):\n",
      "[[0 1]]\n"
     ]
    }
   ],
   "source": [
    "arr = np.arange(5)\n",
    "print(f\"Original array: {arr}\")\n",
    "arr.resize((2, 3)) # Resizes in-place to 2x3, adding a zero\n",
    "print(f\"Resized array (in-place):\\n{arr}\")\n",
    "\n",
    "arr.resize((1, 2)) # Resizes in-place to 1x2, truncating\n",
    "print(f\"Resized array (smaller, in-place):\\n{arr}\")"
   ]
  },
  {
   "cell_type": "markdown",
   "id": "1a010510",
   "metadata": {},
   "source": [
    "Note: resize() is less common than reshape() because it modifies the array in-place and can lead to data loss or padding."
   ]
  },
  {
   "cell_type": "markdown",
   "id": "05c196ac",
   "metadata": {},
   "source": [
    "### 5.3 ravel() and flatten()"
   ]
  },
  {
   "cell_type": "markdown",
   "id": "935fd4bb",
   "metadata": {},
   "source": [
    "Convert a multi-dimensional array into a 1D array."
   ]
  },
  {
   "cell_type": "markdown",
   "id": "6017988d",
   "metadata": {},
   "source": [
    "ravel(): Returns a view of the original array (if possible). Modifying the raveled array might modify the original."
   ]
  },
  {
   "cell_type": "markdown",
   "id": "1595f43f",
   "metadata": {},
   "source": [
    "flatten(): Returns a copy of the array. Modifying the flattened array will not affect the original."
   ]
  },
  {
   "cell_type": "code",
   "execution_count": 8,
   "id": "7c675e00",
   "metadata": {},
   "outputs": [
    {
     "name": "stdout",
     "output_type": "stream",
     "text": [
      "Original matrix:\n",
      "[[1 2 3]\n",
      " [4 5 6]]\n",
      "Raveled array: [1 2 3 4 5 6]\n",
      "Original matrix after modifying raveled view:\n",
      "[[99  2  3]\n",
      " [ 4  5  6]]\n",
      "Flattened array: [1 2 3 4 5 6]\n",
      "Original matrix after modifying flattened copy:\n",
      "[[1 2 3]\n",
      " [4 5 6]]\n"
     ]
    }
   ],
   "source": [
    "matrix = np.array([[1, 2, 3], [4, 5, 6]])\n",
    "print(f\"Original matrix:\\n{matrix}\")\n",
    "\n",
    "raveled_arr = matrix.ravel()\n",
    "print(f\"Raveled array: {raveled_arr}\")\n",
    "raveled_arr[0] = 99\n",
    "print(f\"Original matrix after modifying raveled view:\\n{matrix}\") # Original changed\n",
    "\n",
    "matrix = np.array([[1, 2, 3], [4, 5, 6]]) # Reset matrix\n",
    "flattened_arr = matrix.flatten()\n",
    "print(f\"Flattened array: {flattened_arr}\")\n",
    "flattened_arr[0] = 100\n",
    "print(f\"Original matrix after modifying flattened copy:\\n{matrix}\") # Original unchanged"
   ]
  },
  {
   "cell_type": "markdown",
   "id": "62fd5cf2",
   "metadata": {},
   "source": [
    "### 5.4 transpose() / .T"
   ]
  },
  {
   "cell_type": "markdown",
   "id": "2b477e68",
   "metadata": {},
   "source": [
    "Permutes the dimensions of an array. For 2D arrays, it swaps rows and columns."
   ]
  },
  {
   "cell_type": "code",
   "execution_count": null,
   "id": "112295f6",
   "metadata": {},
   "outputs": [],
   "source": [
    "matrix = np.array([[1, 2, 3],\n",
    "                   [4, 5, 6]])\n",
    "print(f\"Original matrix:\\n{matrix}\")\n",
    "print(f\"Transposed matrix:\\n{matrix.T}\")\n",
    "print(f\"Transposed matrix (using transpose()):\\n{np.transpose(matrix)}\")\n",
    "\n",
    "# For higher dimensions, it permutes axes\n",
    "arr_3d = np.arange(24).reshape((2, 3, 4))\n",
    "print(f\"\\nOriginal 3D array (shape {arr_3d.shape}):\\n{arr_3d}\")\n",
    "# Swap axes 0 and 1\n",
    "arr_3d_transposed = arr_3d.transpose((1, 0, 2)) # (rows, depth, cols) -> (depth, rows, cols)\n",
    "print(f\"Transposed 3D array (shape {arr_3d_transposed.shape}):\\n{arr_3d_transposed}\")"
   ]
  },
  {
   "cell_type": "markdown",
   "id": "8e7a8d79",
   "metadata": {},
   "source": [
    "# 6. Stacking and Splitting Arrays"
   ]
  },
  {
   "cell_type": "markdown",
   "id": "e4105c92",
   "metadata": {},
   "source": [
    "Combining or dividing arrays."
   ]
  },
  {
   "cell_type": "markdown",
   "id": "0d03a382",
   "metadata": {},
   "source": [
    "### 6.1 Stacking Arrays"
   ]
  },
  {
   "cell_type": "code",
   "execution_count": null,
   "id": "3398aac4",
   "metadata": {},
   "outputs": [],
   "source": [
    "np.concatenate((arr1, arr2, ...), axis=0): Joins a sequence of arrays along an existing axis."
   ]
  },
  {
   "cell_type": "code",
   "execution_count": null,
   "id": "987b725e",
   "metadata": {},
   "outputs": [],
   "source": [
    "np.stack((arr1, arr2, ...), axis=0): Joins a sequence of arrays along a new axis."
   ]
  },
  {
   "cell_type": "code",
   "execution_count": null,
   "id": "f1c1b229",
   "metadata": {},
   "outputs": [],
   "source": [
    "arr1 = np.array([1, 2, 3])\n",
    "arr2 = np.array([4, 5, 6])\n",
    "\n",
    "# Concatenate along existing axis (axis=0 for 1D arrays)\n",
    "concatenated = np.concatenate((arr1, arr2))\n",
    "print(f\"Concatenated 1D arrays: {concatenated}\")\n",
    "\n",
    "mat1 = np.array([[1, 2], [3, 4]])\n",
    "mat2 = np.array([[5, 6], [7, 8]])\n",
    "\n",
    "# Concatenate row-wise (along axis=0)\n",
    "conc_rows = np.concatenate((mat1, mat2), axis=0)\n",
    "print(f\"Concatenated (row-wise):\\n{conc_rows}\")\n",
    "\n",
    "# Concatenate column-wise (along axis=1)\n",
    "conc_cols = np.concatenate((mat1, mat2), axis=1)\n",
    "print(f\"Concatenated (column-wise):\\n{conc_cols}\")\n",
    "\n",
    "# Stack creates a new dimension\n",
    "stacked = np.stack((arr1, arr2), axis=0) # Stacks them as rows\n",
    "print(f\"Stacked (axis=0):\\n{stacked}\")\n",
    "stacked_col = np.stack((arr1, arr2), axis=1) # Stacks them as columns\n",
    "print(f\"Stacked (axis=1):\\n{stacked_col}\")"
   ]
  },
  {
   "cell_type": "markdown",
   "id": "f657ace9",
   "metadata": {},
   "source": [
    "### 6.2 Convenience Stacking Functions"
   ]
  },
  {
   "cell_type": "code",
   "execution_count": null,
   "id": "63b8ff61",
   "metadata": {},
   "outputs": [],
   "source": [
    "np.hstack((arr1, arr2, ...)): Stack arrays in sequence horizontally (column-wise). Equivalent to np.concatenate(..., axis=1)."
   ]
  },
  {
   "cell_type": "code",
   "execution_count": null,
   "id": "eda336f8",
   "metadata": {},
   "outputs": [],
   "source": [
    "np.vstack((arr1, arr2, ...)): Stack arrays in sequence vertically (row-wise). Equivalent to np.concatenate(..., axis=0)."
   ]
  },
  {
   "cell_type": "code",
   "execution_count": null,
   "id": "d3900bd3",
   "metadata": {},
   "outputs": [],
   "source": [
    "np.dstack((arr1, arr2, ...)): Stack arrays in sequence depth-wise (along the third axis)."
   ]
  },
  {
   "cell_type": "code",
   "execution_count": null,
   "id": "3877868d",
   "metadata": {},
   "outputs": [],
   "source": [
    "arr1 = np.array([1, 2, 3])\n",
    "arr2 = np.array([4, 5, 6])\n",
    "\n",
    "hstacked = np.hstack((arr1, arr2))\n",
    "print(f\"Hstacked 1D arrays: {hstacked}\")\n",
    "\n",
    "vstacked = np.vstack((arr1, arr2))\n",
    "print(f\"Vstacked 1D arrays:\\n{vstacked}\")\n",
    "\n",
    "mat1 = np.array([[1, 2], [3, 4]])\n",
    "mat2 = np.array([[5, 6], [7, 8]])\n",
    "\n",
    "hstacked_2d = np.hstack((mat1, mat2))\n",
    "print(f\"Hstacked 2D arrays:\\n{hstacked_2d}\")\n",
    "\n",
    "vstacked_2d = np.vstack((mat1, mat2))\n",
    "print(f\"Vstacked 2D arrays:\\n{vstacked_2d}\")\n",
    "\n",
    "# dstack example (creates 3D array)\n",
    "dstacked = np.dstack((mat1, mat2))\n",
    "print(f\"Dstacked 2D arrays (shape {dstacked.shape}):\\n{dstacked}\")"
   ]
  },
  {
   "cell_type": "markdown",
   "id": "62a876be",
   "metadata": {},
   "source": [
    "### 6.3 Splitting Arrays"
   ]
  },
  {
   "cell_type": "code",
   "execution_count": null,
   "id": "911fb74c",
   "metadata": {},
   "outputs": [],
   "source": [
    "np.split(ary, indices_or_sections, axis=0): Split an array into multiple sub-arrays. indices_or_sections can be an integer (number of equal splits) or a list of indices where to split."
   ]
  },
  {
   "cell_type": "code",
   "execution_count": null,
   "id": "666bd22a",
   "metadata": {},
   "outputs": [],
   "source": [
    "np.hsplit(): Split an array into multiple sub-arrays horizontally (column-wise)."
   ]
  },
  {
   "cell_type": "code",
   "execution_count": null,
   "id": "cbacb840",
   "metadata": {},
   "outputs": [],
   "source": [
    "np.vsplit(): Split an array into multiple sub-arrays vertically (row-wise)."
   ]
  },
  {
   "cell_type": "code",
   "execution_count": null,
   "id": "d8fb0f73",
   "metadata": {},
   "outputs": [],
   "source": [
    "np.dsplit(): Split an array into multiple sub-arrays depth-wise."
   ]
  },
  {
   "cell_type": "code",
   "execution_count": 3,
   "id": "e1560b46",
   "metadata": {},
   "outputs": [
    {
     "name": "stdout",
     "output_type": "stream",
     "text": [
      "Original array: [ 0  1  2  3  4  5  6  7  8  9 10 11]\n",
      "Split into 3 equal parts: [array([0, 1, 2, 3]), array([4, 5, 6, 7]), array([ 8,  9, 10, 11])]\n",
      "Split at indices [2, 7]: [array([0, 1]), array([2, 3, 4, 5, 6]), array([ 7,  8,  9, 10, 11])]\n",
      "\n",
      "Original matrix:\n",
      "[[ 0  1  2  3]\n",
      " [ 4  5  6  7]\n",
      " [ 8  9 10 11]\n",
      " [12 13 14 15]]\n",
      "Horizontal split:\n",
      "[[ 0  1]\n",
      " [ 4  5]\n",
      " [ 8  9]\n",
      " [12 13]]\n",
      "---\n",
      "[[ 2  3]\n",
      " [ 6  7]\n",
      " [10 11]\n",
      " [14 15]]\n",
      "Vertical split:\n",
      "[[0 1 2 3]]\n",
      "---\n",
      "[[ 4  5  6  7]\n",
      " [ 8  9 10 11]]\n",
      "---\n",
      "[[12 13 14 15]]\n"
     ]
    }
   ],
   "source": [
    "arr = np.arange(12)\n",
    "print(f\"Original array: {arr}\")\n",
    "\n",
    "# Split into 3 equal sections\n",
    "split_arrs = np.split(arr, 3)\n",
    "print(f\"Split into 3 equal parts: {split_arrs}\")\n",
    "\n",
    "# Split at specific indices\n",
    "split_at_indices = np.split(arr, [2, 7]) # Splits before index 2 and before index 7\n",
    "print(f\"Split at indices [2, 7]: {split_at_indices}\")\n",
    "\n",
    "matrix = np.arange(16).reshape((4, 4))\n",
    "print(f\"\\nOriginal matrix:\\n{matrix}\")\n",
    "\n",
    "# Horizontal split (column-wise)\n",
    "hsplit_matrix = np.hsplit(matrix, 2) # Split into 2 equal parts horizontally\n",
    "print(f\"Horizontal split:\\n{hsplit_matrix[0]}\\n---\\n{hsplit_matrix[1]}\")\n",
    "\n",
    "# Vertical split (row-wise)\n",
    "vsplit_matrix = np.vsplit(matrix, [1, 3]) # Split before row 1 and before row 3\n",
    "print(f\"Vertical split:\\n{vsplit_matrix[0]}\\n---\\n{vsplit_matrix[1]}\\n---\\n{vsplit_matrix[2]}\")"
   ]
  },
  {
   "cell_type": "markdown",
   "id": "77d8cad1",
   "metadata": {},
   "source": [
    "# 7. Linear Algebra"
   ]
  },
  {
   "cell_type": "markdown",
   "id": "b7531f34",
   "metadata": {},
   "source": [
    "NumPy provides robust support for linear algebra operations, leveraging highly optimized BLAS (Basic Linear Algebra Subprograms) libraries."
   ]
  },
  {
   "cell_type": "code",
   "execution_count": null,
   "id": "d89b6e3a",
   "metadata": {},
   "outputs": [],
   "source": [
    "### Create matrices\n",
    "A = np.array([[1, 2],\n",
    "              [3, 4]])\n",
    "B = np.array([[5, 6],\n",
    "              [7, 8]])\n",
    "print(f\"Matrix A:\\n{A}\")\n",
    "print(f\"Matrix B:\\n{B}\")\n",
    "\n",
    "### Dot product (vector dot product or matrix multiplication for 2D arrays)\n",
    "dot_product_A_B = np.dot(A, B)\n",
    "print(f\"Dot product (A . B):\\n{dot_product_A_B}\")\n",
    "\n",
    "### Matrix multiplication (using @ operator or np.matmul)\n",
    "matrix_mult_A_B = A @ B\n",
    "print(f\"Matrix multiplication (A @ B):\\n{matrix_mult_A_B}\")\n",
    "print(f\"Matrix multiplication (np.matmul(A, B)):\\n{np.matmul(A, B)}\")\n",
    "\n",
    "### Element-wise multiplication (not matrix multiplication)\n",
    "print(f\"Element-wise multiplication (A * B):\\n{A * B}\")\n",
    "\n",
    "### Determinant\n",
    "det_A = np.linalg.det(A)\n",
    "print(f\"Determinant of A: {det_A}\")\n",
    "\n",
    "### Inverse of a matrix\n",
    "try:\n",
    "    inv_A = np.linalg.inv(A)\n",
    "    print(f\"Inverse of A:\\n{inv_A}\")\n",
    "    # Verify A * A_inv is identity matrix\n",
    "    print(f\"A @ inv(A):\\n{A @ inv_A}\") # Should be identity matrix, might have tiny float errors\n",
    "except np.linalg.LinAlgError:\n",
    "    print(\"Matrix A is singular (no inverse).\")\n",
    "\n",
    "### Eigenvalues and Eigenvectors\n",
    "### Returns (eigenvalues, eigenvectors)\n",
    "eigenvals, eigenvecs = np.linalg.eig(A)\n",
    "print(f\"Eigenvalues of A: {eigenvals}\")\n",
    "print(f\"Eigenvectors of A:\\n{eigenvecs}\")\n",
    "\n",
    "### Solving linear equations Ax = b\n",
    "### For example: 1x + 2y = 9, 3x + 4y = 10\n",
    "### A = [[1, 2], [3, 4]], b = [9, 10]\n",
    "b = np.array([9, 10])\n",
    "x = np.linalg.solve(A, b)\n",
    "print(f\"Solution to Ax = b: x = {x}\")\n",
    "### Verify: A @ x should be close to b\n",
    "print(f\"A @ x (verification): {A @ x}\")\n",
    "\n",
    "### Singular Value Decomposition (SVD)\n",
    "U, S, Vt = np.linalg.svd(A)\n",
    "print(f\"U from SVD:\\n{U}\")\n",
    "print(f\"Singular values S: {S}\")\n",
    "print(f\"Vt from SVD:\\n{Vt}\")"
   ]
  },
  {
   "cell_type": "markdown",
   "id": "15222ce0",
   "metadata": {},
   "source": []
  },
  {
   "cell_type": "markdown",
   "id": "dfd192d2",
   "metadata": {},
   "source": []
  },
  {
   "cell_type": "markdown",
   "id": "c853bde4",
   "metadata": {},
   "source": []
  },
  {
   "cell_type": "markdown",
   "id": "72c54d3d",
   "metadata": {},
   "source": []
  },
  {
   "cell_type": "markdown",
   "id": "e314aa52",
   "metadata": {},
   "source": [
    "9. File I/O with NumPy"
   ]
  },
  {
   "cell_type": "markdown",
   "id": "18788abb",
   "metadata": {},
   "source": [
    "NumPy provides functions to save and load arrays to/from disk efficiently."
   ]
  },
  {
   "cell_type": "markdown",
   "id": "01026159",
   "metadata": {},
   "source": [
    "9.1 Binary Files (.npy, .npz)"
   ]
  },
  {
   "cell_type": "markdown",
   "id": "a34045bb",
   "metadata": {},
   "source": [
    "These are NumPy's native binary formats. They preserve dtype and shape information and are efficient for storing large arrays."
   ]
  },
  {
   "cell_type": "code",
   "execution_count": null,
   "id": "3b6874b3",
   "metadata": {},
   "outputs": [],
   "source": [
    "np.save('filename.npy', array): Saves a single array to a binary .npy file."
   ]
  },
  {
   "cell_type": "code",
   "execution_count": null,
   "id": "c56029d5",
   "metadata": {},
   "outputs": [],
   "source": [
    "np.load('filename.npy'): Loads a single array from a .npy file."
   ]
  },
  {
   "cell_type": "code",
   "execution_count": null,
   "id": "1058f06d",
   "metadata": {},
   "outputs": [],
   "source": [
    "np.savez('filename.npz', array1=arr1, array2=arr2): Saves multiple arrays into a single uncompressed .npz archive. Can be accessed like a dictionary."
   ]
  },
  {
   "cell_type": "code",
   "execution_count": null,
   "id": "1e0da976",
   "metadata": {},
   "outputs": [],
   "source": [
    "np.savez_compressed('filename.npz', ...): Same as savez but compressed."
   ]
  },
  {
   "cell_type": "code",
   "execution_count": null,
   "id": "3db3a10f",
   "metadata": {},
   "outputs": [],
   "source": [
    "data_to_save = np.arange(20).reshape(4, 5)\n",
    "np.save('my_array.npy', data_to_save)\n",
    "print(f\"Saved array to my_array.npy:\\n{data_to_save}\")\n",
    "\n",
    "loaded_data = np.load('my_array.npy')\n",
    "print(f\"Loaded array from my_array.npy:\\n{loaded_data}\")\n",
    "\n",
    "# Saving multiple arrays\n",
    "arr_a = np.array([1, 2, 3])\n",
    "arr_b = np.linspace(0, 1, 5)\n",
    "np.savez('multiple_arrays.npz', array_a=arr_a, array_b=arr_b)\n",
    "print(\"\\nSaved arr_a and arr_b to multiple_arrays.npz\")\n",
    "\n",
    "loaded_npz = np.load('multiple_arrays.npz')\n",
    "print(f\"Loaded array_a from .npz: {loaded_npz['array_a']}\")\n",
    "print(f\"Loaded array_b from .npz: {loaded_npz['array_b']}\")\n",
    "loaded_npz.close() # Close the file handle when done"
   ]
  },
  {
   "cell_type": "markdown",
   "id": "9c536abb",
   "metadata": {},
   "source": []
  },
  {
   "cell_type": "markdown",
   "id": "77420440",
   "metadata": {},
   "source": [
    "### Challenge: Modify a 5x5 Identity Matrix\n",
    "\n",
    "**Task:**  \n",
    "- Create a 5x5 identity matrix.\n",
    "- Replace its central 3x3 submatrix with all 7s.\n",
    "- Print the final matrix.\n",
    "\n"
   ]
  },
  {
   "cell_type": "markdown",
   "id": "7b81eef3",
   "metadata": {},
   "source": []
  },
  {
   "cell_type": "markdown",
   "id": "7302e877",
   "metadata": {},
   "source": []
  },
  {
   "cell_type": "markdown",
   "id": "175a6e11",
   "metadata": {},
   "source": [
    "**Solution**"
   ]
  },
  {
   "cell_type": "code",
   "execution_count": 4,
   "id": "c292ea8e",
   "metadata": {},
   "outputs": [
    {
     "name": "stdout",
     "output_type": "stream",
     "text": [
      "Initial 5x5 Identity Matrix:\n",
      "[[1. 0. 0. 0. 0.]\n",
      " [0. 1. 0. 0. 0.]\n",
      " [0. 0. 1. 0. 0.]\n",
      " [0. 0. 0. 1. 0.]\n",
      " [0. 0. 0. 0. 1.]]\n",
      "\n",
      "Matrix after replacing central 3x3 with 7s:\n",
      "[[1. 0. 0. 0. 0.]\n",
      " [0. 7. 7. 7. 0.]\n",
      " [0. 7. 7. 7. 0.]\n",
      " [0. 7. 7. 7. 0.]\n",
      " [0. 0. 0. 0. 1.]]\n"
     ]
    }
   ],
   "source": [
    "\n",
    "\n",
    "identity_5x5 = np.eye(5)\n",
    "print(\"Initial 5x5 Identity Matrix:\")\n",
    "print(identity_5x5)\n",
    "\n",
    "identity_5x5[1:4, 1:4] = 7\n",
    "\n",
    "print(\"\\nMatrix after replacing central 3x3 with 7s:\")\n",
    "print(identity_5x5)"
   ]
  },
  {
   "cell_type": "code",
   "execution_count": null,
   "id": "14172e1a",
   "metadata": {},
   "outputs": [],
   "source": []
  }
 ],
 "metadata": {
  "kernelspec": {
   "display_name": "base",
   "language": "python",
   "name": "python3"
  },
  "language_info": {
   "codemirror_mode": {
    "name": "ipython",
    "version": 3
   },
   "file_extension": ".py",
   "mimetype": "text/x-python",
   "name": "python",
   "nbconvert_exporter": "python",
   "pygments_lexer": "ipython3",
   "version": "3.12.7"
  }
 },
 "nbformat": 4,
 "nbformat_minor": 5
}
